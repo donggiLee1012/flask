{
 "cells": [
  {
   "cell_type": "code",
   "execution_count": 3,
   "metadata": {},
   "outputs": [
    {
     "name": "stdout",
     "output_type": "stream",
     "text": [
      "C:\\Users\\donggi\\Desktop\\python_flask\\helloflask\\test\n",
      "C:\\Users\\donggi\\Desktop\\python_flask\\helloflask\\test\n"
     ]
    }
   ],
   "source": [
    "import os\n",
    "print(os.getcwd())\n",
    "print(os.path.abspath(os.getcwd()))"
   ]
  },
  {
   "cell_type": "code",
   "execution_count": 37,
   "metadata": {},
   "outputs": [],
   "source": [
    "# url\n",
    "# youtuber\n",
    "# name\n",
    "# comments\n",
    "# like\n",
    "#\n",
    "# youtube 댓글수집 프로세스 모듈화한뒤\n",
    "# 위에 5개의 변수 init.py에서 값을 받을수있게해야함\n",
    "# 그뒤 youtube.html 에 뿌려준다.\n",
    "\n",
    "\n",
    "#-*-coding:utf-8-*-\n",
    "\n",
    "from bs4 import BeautifulSoup\n",
    "from selenium import webdriver\n",
    "import time\n",
    "import sys\n",
    "import re\n",
    "import math\n",
    "import numpy\n",
    "import pandas as pd\n",
    "import xlwt\n",
    "import random\n",
    "import os\n",
    "import openpyxl\n",
    "from selenium.webdriver.chrome.options import Options\n",
    "from fake_useragent import UserAgent\n",
    "\n",
    "class Youtube:\n",
    "\n",
    "    def __init__(self,query_txt,cnt,reple_cnt):\n",
    "\n",
    "        self.driverpath = os.path.join(os.path.dirname(os.getcwd()),'module','chromedriver.exe')\n",
    "\n",
    "        self.homepath = os.path.expanduser('~')\n",
    "\n",
    "        s_path = os.path.join(self.homepath, 'Desktop','youtube_comments')\n",
    "        self.now = time.localtime()\n",
    "        self.s = '%04d-%02d-%02d-%02d-%02d' % (self.now.tm_year, self.now.tm_mon, self.now.tm_mday,\n",
    "                                          self.now.tm_hour, self.now.tm_min)\n",
    "        self.query_txt = query_txt\n",
    "        self.cnt = cnt\n",
    "        self.reple_cnt = reple_cnt\n",
    "\n",
    "\n",
    "        if os.path.exists(s_path + '/' + self.s + query_txt):\n",
    "            pass\n",
    "        else :\n",
    "            os.makedirs(s_path + '/' + self.s + query_txt)\n",
    "\n",
    "        self.ff_name = s_path + '/' + self.s + self.query_txt + '\\\\' + self.s + '-' + self.query_txt + '.txt'\n",
    "        self.fc_name = s_path + '/' + self.s + self.query_txt + '\\\\' + self.s + '-' + self.query_txt + '.csv'\n",
    "        self.fx_name = s_path + '/' + self.s + self.query_txt + '\\\\' + self.s + '-' + self.query_txt + '.xls'\n",
    "\n",
    "        options = Options()\n",
    "#         ua = UserAgent(verify_ssl=False)\n",
    "#         userAgent = ua.random\n",
    "#         print(userAgent)\n",
    "#         options.add_argument(f'user-agent={userAgent}')\n",
    "        options.add_argument('headless')\n",
    "        options.add_argument('window-size=1920x1080')\n",
    "        options.add_argument(\"disable-gpu\")\n",
    "        options.add_argument(\"lang=ko_KR\")\n",
    "        self.driver = webdriver.Chrome(self.driverpath, options=options)\n",
    "#       self.driver = webdriver.Chrome(self.driverpath)\n",
    "        self.driver.get('https://www.youtube.com')\n",
    "\n",
    "    def scroll_down(driver,num, sleepnum=5):\n",
    "        # driver.execute_script(\"window.scrollTo(500,document.body.scrollHeight);\")\n",
    "        for i in range(num):\n",
    "            driver.execute_script(\"window.scrollBy(0,6000);\")  # 한페이지 20개씩 출력값\n",
    "            time.sleep(sleepnum)\n",
    "\n",
    "    def search(self,thumbnail):\n",
    "        time.sleep(3)\n",
    "        element = self.driver.find_element_by_name('search_query')\n",
    "        element.send_keys(self.query_txt)\n",
    "        element.submit()\n",
    "        time.sleep(2)\n",
    "\n",
    "        if self.reple_cnt < 20:\n",
    "            self.r_cnt = 1\n",
    "        else:\n",
    "            self.r_cnt = math.ceil(self.reple_cnt / 20)\n",
    "\n",
    "        if self.cnt < 20:\n",
    "            c_cnt = 1\n",
    "        else:\n",
    "            c_cnt = math.ceil(self.cnt / 20)\n",
    "            Youtube.scroll_down(self.driver,c_cnt)\n",
    "\n",
    "        Youtube.scroll_down(self.driver,c_cnt)\n",
    "\n",
    "        contents = []\n",
    "        \n",
    "        count = 0\n",
    "\n",
    "        html = self.driver.page_source\n",
    "        soup = BeautifulSoup(html, 'html.parser')       # 검색결과 유튜브 페이지 soup\n",
    "\n",
    "        for j in range(self.cnt):\n",
    "            thumbnail.append(soup.select('#contents #dismissable #thumbnail > yt-img-shadow > #img')[j]['src'])\n",
    "\n",
    "        for i in soup.find_all('a', 'yt-simple-endpoint style-scope ytd-video-renderer'):\n",
    "            contents.append('https://www.youtube.com/' + i['href'])\n",
    "            count += 1\n",
    "            if count == self.cnt:\n",
    "                break\n",
    "        # contents =[ 유튜브 검색결과 링크들 ]\n",
    "\n",
    "        #Youtube.utuber_parser(contents)\n",
    "        return contents\n",
    "\n",
    "    def utuber_parser(self,href, pool):\n",
    "        self.driver.implicitly_wait(10)\n",
    "        self.driver.get(href)\n",
    "        time.sleep(3)\n",
    "        Youtube.scroll_down(self.driver,self.r_cnt, 7)\n",
    "\n",
    "        self.driver.implicitly_wait(10)\n",
    "        html = self.driver.page_source\n",
    "        soup1 = BeautifulSoup(html, 'html.parser')\n",
    "        \n",
    "        \n",
    "        # 총 댓글수\n",
    "\n",
    "        comment = soup1.select('#count > yt-formatted-string')[0].get_text()\n",
    "\n",
    "        comment1 = comment.replace(\",\", \"\")\n",
    "        comment2 = int(re.search('\\d+', comment1).group())\n",
    "\n",
    "\n",
    "\n",
    "        # 영상 제목\n",
    "        title = soup1.select('#container > h1 > yt-formatted-string')[0].get_text()\n",
    "\n",
    "        # 조회수\n",
    "        view = soup1.select('#count > yt-view-count-renderer > span.view-count.style-scope.yt-view-count-renderer')[\n",
    "            0].get_text()\n",
    "        view1 = view.replace(\",\", \"\")\n",
    "        view2 = int(re.search('\\d+', view1).group())\n",
    "\n",
    "\n",
    "\n",
    "        # 유투버명\n",
    "        youtuber = soup1.select('#upload-info #text')[0].get_text()\n",
    "\n",
    "        # 구독자수\n",
    "        try:\n",
    "            sub = soup1.select('#owner-sub-count')[0].get_text()\n",
    "            sub1 = re.search('\\d+.*', sub).group().strip()\n",
    "        except:\n",
    "            sub1 = '비공개'\n",
    "\n",
    "        # 게시날짜\n",
    "        up_date = soup1.select('#date > yt-formatted-string')[0].get_text()\n",
    "        up_date1 = up_date.replace(\" \", \"\")\n",
    "\n",
    "        # 좋아요 수\n",
    "        like = soup1.select('#top-level-buttons > ytd-toggle-button-renderer:nth-child(1) > a #text')[0].get_text()\n",
    "\n",
    "        # 싫어요 수\n",
    "        dislike = soup1.select('#top-level-buttons > ytd-toggle-button-renderer:nth-child(2) > a #text')[\n",
    "            0].get_text()\n",
    "\n",
    "        pool_list =[]\n",
    "        pool_list.append(title)\n",
    "        pool_list.append(view2)\n",
    "        pool_list.append(up_date1)\n",
    "        pool_list.append(like)\n",
    "        pool_list.append(dislike)\n",
    "        pool_list.append(sub1)\n",
    "        pool_list.append(comment2)\n",
    "        pool_list.append(youtuber)\n",
    "\n",
    "        pool.append(pool_list)\n",
    "\n",
    "\n",
    "\n",
    "        return soup1\n",
    "\n",
    "    def comment_parser(self,soup1):\n",
    "        \n",
    "        comment_list=[]\n",
    "      \n",
    "        current_reple_cnt = len(soup1.select('#comments #sections #contents #comment'))\n",
    "        check = self.reple_cnt\n",
    "\n",
    "        # 댓글 추출 갯수 조정\n",
    "        if check > current_reple_cnt:\n",
    "            check = current_reple_cnt\n",
    "\n",
    "        count = 0\n",
    "        print('start...')\n",
    "        for k in range(check):\n",
    "            c_pool =[]\n",
    "            \n",
    "            name_s = soup1.select('#author-text')[k].get_text().strip()\n",
    "            source_s = soup1.select('#content-text')[k].get_text()\n",
    "            rdate_s = soup1.select('#header-author > yt-formatted-string > a')[1].get_text()\n",
    "            rdate_s1 = re.search('.*전', rdate_s).group()\n",
    "            like_s = soup1.select('#vote-count-middle')[k].get_text().strip()\n",
    "            youtuber_s = soup1.select('#upload-info #text')[0].get_text()\n",
    "\n",
    "            with open(self.ff_name, 'a', encoding='UTF-8') as f:\n",
    "                f.write(\"------------------------------------------------------------------\" + \"\\n\")\n",
    "                f.write(\"\\n***** {} 번째  댓글 *****\\n\".format(count + 1))\n",
    "                f.write(\"1.유튜버 : \" + youtuber_s + \"\\n\")\n",
    "                f.write(\"2.댓글 작성자 : \" + name_s + \"\\n\")\n",
    "                f.write(\"3.댓글 내용 : \" + source_s + \"\\n\")\n",
    "                f.write(\"4.댓글 좋아요수 : \" + like_s + \"\\n\")\n",
    "                f.write(\"5.댓글 게시일 : \" + rdate_s1 + \"\\n\\n\")\n",
    "            count += 1\n",
    "\n",
    "            \n",
    "            # 작성자 name\n",
    "            c_pool.append(name_s)\n",
    "\n",
    "            # 댓글 원문\n",
    "            c_pool.append(source_s)\n",
    "\n",
    "            # 댓글 좋아요수\n",
    "            c_pool.append(like_s)\n",
    "\n",
    "            # 유튜버\n",
    "            c_pool.append(youtuber_s)\n",
    "\n",
    "            # 댓글 게시일\n",
    "            c_pool.append(rdate_s1)\n",
    "            \n",
    "            comment_list.append(c_pool)\n",
    "            \n",
    "            \n",
    "        \n",
    "        return comment_list"
   ]
  },
  {
   "cell_type": "code",
   "execution_count": 9,
   "metadata": {},
   "outputs": [],
   "source": [
    "utube = Youtube('영화리뷰',5,5)"
   ]
  },
  {
   "cell_type": "code",
   "execution_count": 15,
   "metadata": {},
   "outputs": [],
   "source": [
    "thumbnail=[]\n",
    "pool=[]\n",
    "comment_list=[]"
   ]
  },
  {
   "cell_type": "code",
   "execution_count": 63,
   "metadata": {},
   "outputs": [
    {
     "data": {
      "text/plain": [
       "['https://www.youtube.com//watch?v=eA9X_oLhuWg',\n",
       " 'https://www.youtube.com//watch?v=Gs4bc9nAB18',\n",
       " 'https://www.youtube.com//watch?v=hxHzjdXUxOU',\n",
       " 'https://www.youtube.com//watch?v=TAVhPbfpLlE',\n",
       " 'https://www.youtube.com//watch?v=em9tlNbiLNs']"
      ]
     },
     "execution_count": 63,
     "metadata": {},
     "output_type": "execute_result"
    }
   ],
   "source": [
    "contents"
   ]
  },
  {
   "cell_type": "code",
   "execution_count": 25,
   "metadata": {},
   "outputs": [],
   "source": [
    "contents = utube.search(thumbnail)"
   ]
  },
  {
   "cell_type": "code",
   "execution_count": 26,
   "metadata": {},
   "outputs": [
    {
     "data": {
      "text/plain": [
       "['https://i.ytimg.com/vi/eA9X_oLhuWg/hqdefault.jpg?sqp=-oaymwEZCPYBEIoBSFXyq4qpAwsIARUAAIhCGAFwAQ==&rs=AOn4CLA3sE-yxBG4gPsTGxGhYstWIG8Pvg',\n",
       " 'https://i.ytimg.com/vi/Gs4bc9nAB18/hqdefault.jpg?sqp=-oaymwEZCPYBEIoBSFXyq4qpAwsIARUAAIhCGAFwAQ==&rs=AOn4CLB1FL43FT6lPt_7xQr-5m_ENO1RCg',\n",
       " 'https://i.ytimg.com/vi/hxHzjdXUxOU/hqdefault.jpg?sqp=-oaymwEZCPYBEIoBSFXyq4qpAwsIARUAAIhCGAFwAQ==&rs=AOn4CLBAA4erH_rKfppQLzfvH4ob4_4loA',\n",
       " 'https://i.ytimg.com/vi/TAVhPbfpLlE/hqdefault.jpg?sqp=-oaymwEZCPYBEIoBSFXyq4qpAwsIARUAAIhCGAFwAQ==&rs=AOn4CLDfcxFESXU68XMZHmd6T4ObrqjPjA',\n",
       " 'https://i.ytimg.com/vi/em9tlNbiLNs/hqdefault.jpg?sqp=-oaymwEZCPYBEIoBSFXyq4qpAwsIARUAAIhCGAFwAQ==&rs=AOn4CLBFizDhzXH5-5qnnZ8tqNK0WzdnuQ']"
      ]
     },
     "execution_count": 26,
     "metadata": {},
     "output_type": "execute_result"
    }
   ],
   "source": [
    "thumbnail"
   ]
  },
  {
   "cell_type": "code",
   "execution_count": 16,
   "metadata": {},
   "outputs": [
    {
     "name": "stdout",
     "output_type": "stream",
     "text": [
      "0\n",
      "0\n",
      "0\n"
     ]
    }
   ],
   "source": [
    "for i in contents:\n",
    "    try:\n",
    "        comments = utube.comment_parser(utube.utuber_parser(i,pool))\n",
    "        comment_list.append(comments)\n",
    "    except:\n",
    "        pass"
   ]
  },
  {
   "cell_type": "code",
   "execution_count": 35,
   "metadata": {},
   "outputs": [
    {
     "name": "stdout",
     "output_type": "stream",
     "text": [
      "1\n"
     ]
    }
   ],
   "source": [
    "if len(pool) != utube.cnt:\n",
    "    thumbnail=thumbnail[:len(pool)]"
   ]
  },
  {
   "cell_type": "code",
   "execution_count": 58,
   "metadata": {},
   "outputs": [
    {
     "data": {
      "text/plain": [
       "['지구에 관광 온 외계인, 좀비 사태에 휘말려버리다 !!! [영화리뷰 결말포함]',\n",
       " 5367,\n",
       " '2020.8.9.',\n",
       " '501',\n",
       " '9',\n",
       " '9.29만명',\n",
       " 165,\n",
       " '동네비디오방']"
      ]
     },
     "execution_count": 58,
     "metadata": {},
     "output_type": "execute_result"
    }
   ],
   "source": [
    "# pool[영상] [영상제목,조회수,게시일,좋아요,싫어요,구독자수,총댓글수,유튜버명]\n",
    "pool[0]"
   ]
  },
  {
   "cell_type": "code",
   "execution_count": 42,
   "metadata": {},
   "outputs": [
    {
     "data": {
      "text/plain": [
       "['포터', '이제는 외계인이 지구에 관광오넼ㅋㅋㅋ', '17', '동네비디오방', '1시간 전']"
      ]
     },
     "execution_count": 42,
     "metadata": {},
     "output_type": "execute_result"
    }
   ],
   "source": [
    "# comment_list [영상] [댓글]['이름','내용','좋아요수','유투버','게시일']\n",
    "comment_list[0][0]"
   ]
  },
  {
   "cell_type": "code",
   "execution_count": 66,
   "metadata": {},
   "outputs": [],
   "source": [
    "href_count=0\n",
    "mk_row=''\n",
    "for yongsang in comment_list:\n",
    "    \n",
    "    for row in yongsang:\n",
    "        \n",
    "        \n",
    "        mk_row+='''\n",
    "<tr>\n",
    "<td><a href=\"{url}\">{youtuber}</a></td>\n",
    "<td>{name}</td>\n",
    "<td>{comments}</td>\n",
    "<td>{like}</td>\n",
    "<td>{update}</td>\n",
    "</tr>       \n",
    "        '''.format(name = row[0],\n",
    "        comments = row[1],\n",
    "        like = row[2],\n",
    "        youtuber =row[3],\n",
    "        update = row[4],url=contents[href_count])\n",
    "    \n",
    "    href_count +=1\n",
    "        \n",
    "        \n",
    "            \n",
    "            "
   ]
  },
  {
   "cell_type": "code",
   "execution_count": 67,
   "metadata": {},
   "outputs": [
    {
     "data": {
      "text/plain": [
       "'\\n<tr>\\n<td><a href=\"https://www.youtube.com//watch?v=eA9X_oLhuWg\">동네비디오방</a></td>\\n<td>포터</td>\\n<td>이제는 외계인이 지구에 관광오넼ㅋㅋㅋ</td>\\n<td>17</td>\\n<td>1시간 전</td>\\n</tr>\\n        \\n        \\n<tr>\\n<td><a href=\"https://www.youtube.com//watch?v=eA9X_oLhuWg\">동네비디오방</a></td>\\n<td>Inily Kim</td>\\n<td>외계인도 지구 올땐 영어만 배우고 오는 더러운 우주 같으니라구</td>\\n<td>14</td>\\n<td>1시간 전</td>\\n</tr>\\n        \\n        \\n<tr>\\n<td><a href=\"https://www.youtube.com//watch?v=eA9X_oLhuWg\">동네비디오방</a></td>\\n<td>A Young Moon</td>\\n<td>세계는 넓고...영화는 끝이 없다. ㅎㅎㅎㅎ\\n진짜 대단하심....\\n더는 없겠지 했다가....\\n계속해서 새로운 영화가 ㅋㅋㅋㅋㅋㅋ\\n진정 님 짱이심 ^^*</td>\\n<td>22</td>\\n<td>1시간 전</td>\\n</tr>\\n        \\n        \\n<tr>\\n<td><a href=\"https://www.youtube.com//watch?v=eA9X_oLhuWg\">동네비디오방</a></td>\\n<td>제네마: 영화리뷰</td>\\n<td>형... 코로나 도 없었던 일로 좀 해주면안될까ㅠㅠ</td>\\n<td>16</td>\\n<td>1시간 전</td>\\n</tr>\\n        \\n        \\n<tr>\\n<td><a href=\"https://www.youtube.com//watch?v=eA9X_oLhuWg\">동네비디오방</a></td>\\n<td>Jihoon Cho</td>\\n<td>저두 영화 좋아하지만 똥방님의 영화는 무궁무진 ㅋㅋ 끝이없어요^^</td>\\n<td>4</td>\\n<td>1시간 전</td>\\n</tr>\\n        \\n        \\n<tr>\\n<td><a href=\"https://www.youtube.com//watch?v=Gs4bc9nAB18\">믹스무비[MIX MOVIE]</a></td>\\n<td>믹스무비[MIX MOVIE]</td>\\n<td>미국 드라마 : 더 라스트 맨 온 어스 (The Last Man on Earth,2015)입니다.^^</td>\\n<td>35</td>\\n<td>2시간 전</td>\\n</tr>\\n        \\n        \\n<tr>\\n<td><a href=\"https://www.youtube.com//watch?v=Gs4bc9nAB18\">믹스무비[MIX MOVIE]</a></td>\\n<td>아카츠노나츠키</td>\\n<td>이거 찰영할때 애피소드가 신기하던데 사람들은 없어야하고 cg는 안되겠고 찰영은 해야되고 해서 시에 부탁해서 2시간인가 길거리씬 후다닥 빨리 찍었다던데 혼자면 얼마나 외로울까?</td>\\n<td>10</td>\\n<td>2시간 전</td>\\n</tr>\\n        \\n        \\n<tr>\\n<td><a href=\"https://www.youtube.com//watch?v=Gs4bc9nAB18\">믹스무비[MIX MOVIE]</a></td>\\n<td>푸르메</td>\\n<td>남주 정신세계가 참 이상하네요. 캐롤은 천사네요.</td>\\n<td>42</td>\\n<td>2시간 전</td>\\n</tr>\\n        \\n        \\n<tr>\\n<td><a href=\"https://www.youtube.com//watch?v=Gs4bc9nAB18\">믹스무비[MIX MOVIE]</a></td>\\n<td>SCP괴박사</td>\\n<td>이런 영화 특 : 주인공 수염생김</td>\\n<td>14</td>\\n<td>2시간 전</td>\\n</tr>\\n        \\n        \\n<tr>\\n<td><a href=\"https://www.youtube.com//watch?v=Gs4bc9nAB18\">믹스무비[MIX MOVIE]</a></td>\\n<td>강북꽃쟁이</td>\\n<td>마지막 차 뒷쪽에 공 다 모아논거 은근 웃기네 ㅋㅋ</td>\\n<td>51</td>\\n<td>2시간 전</td>\\n</tr>\\n        \\n        \\n<tr>\\n<td><a href=\"https://www.youtube.com//watch?v=hxHzjdXUxOU\">김흥미</a></td>\\n<td>김재경</td>\\n<td>와...저런영화는..개인적으로..재미없을것같은데...김흥미님 목소리땜에 집중하게되네...ㄷㄷ</td>\\n<td>9</td>\\n<td>20시간 전</td>\\n</tr>\\n        \\n        \\n<tr>\\n<td><a href=\"https://www.youtube.com//watch?v=hxHzjdXUxOU\">김흥미</a></td>\\n<td>에크소년</td>\\n<td>이럴수가.. 이런 멀쩡한 스트리트파이터 영화가 있었나...</td>\\n<td>12</td>\\n<td>20시간 전</td>\\n</tr>\\n        \\n        \\n<tr>\\n<td><a href=\"https://www.youtube.com//watch?v=hxHzjdXUxOU\">김흥미</a></td>\\n<td>김미가</td>\\n<td>오 난 왜 이게 재밌지 후속작 없나요??</td>\\n<td>8</td>\\n<td>20시간 전</td>\\n</tr>\\n        \\n        \\n<tr>\\n<td><a href=\"https://www.youtube.com//watch?v=hxHzjdXUxOU\">김흥미</a></td>\\n<td>Gerald Arsenault</td>\\n<td>일본영화의 방향성은 정해졌네요\\n잘 보고 갑니다.</td>\\n<td>4</td>\\n<td>20시간 전</td>\\n</tr>\\n        \\n        \\n<tr>\\n<td><a href=\"https://www.youtube.com//watch?v=hxHzjdXUxOU\">김흥미</a></td>\\n<td>HYhy Choi</td>\\n<td>황재성씨가 영화배우 출신이었군요</td>\\n<td>4</td>\\n<td>20시간 전</td>\\n</tr>\\n        \\n        '"
      ]
     },
     "execution_count": 67,
     "metadata": {},
     "output_type": "execute_result"
    }
   ],
   "source": [
    "mk_row"
   ]
  },
  {
   "cell_type": "code",
   "execution_count": 7,
   "metadata": {},
   "outputs": [
    {
     "data": {
      "text/plain": [
       "True"
      ]
     },
     "execution_count": 7,
     "metadata": {},
     "output_type": "execute_result"
    }
   ],
   "source": [
    "utube.driver.get_screenshot_as_file('Error.png')"
   ]
  },
  {
   "cell_type": "code",
   "execution_count": null,
   "metadata": {},
   "outputs": [],
   "source": [
    "del utube"
   ]
  },
  {
   "cell_type": "code",
   "execution_count": 8,
   "metadata": {},
   "outputs": [],
   "source": [
    "utube.driver.quit()"
   ]
  }
 ],
 "metadata": {
  "kernelspec": {
   "display_name": "Python 3",
   "language": "python",
   "name": "python3"
  },
  "language_info": {
   "codemirror_mode": {
    "name": "ipython",
    "version": 3
   },
   "file_extension": ".py",
   "mimetype": "text/x-python",
   "name": "python",
   "nbconvert_exporter": "python",
   "pygments_lexer": "ipython3",
   "version": "3.8.4"
  }
 },
 "nbformat": 4,
 "nbformat_minor": 4
}
