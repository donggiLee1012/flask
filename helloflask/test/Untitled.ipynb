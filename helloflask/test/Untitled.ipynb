{
 "cells": [
  {
   "cell_type": "code",
   "execution_count": 1,
   "metadata": {},
   "outputs": [],
   "source": [
    "#-*-coding:utf-8-*-\n",
    "\n",
    "# 연습문제 8-3: 유튜브 댓글 수집하는 크롤러\n",
    "\n",
    "#Step 1. 필요한 모듈과 라이브러리를 로딩합니다.\n",
    "\n",
    "from bs4 import BeautifulSoup\n",
    "from selenium import webdriver\n",
    "\n",
    "import time\n",
    "import sys\n",
    "import re\n",
    "import math\n",
    "import numpy \n",
    "import pandas as pd   \n",
    "import xlwt \n",
    "import random\n",
    "import os\n",
    "import openpyxl\n"
   ]
  },
  {
   "cell_type": "code",
   "execution_count": 2,
   "metadata": {},
   "outputs": [],
   "source": [
    "driverpath = os.path.join(os.path.dirname(os.getcwd()),'module','chromedriver.exe')\n",
    "\n",
    "s_path =os.path.join(os.path.dirname(os.path.abspath(os.getcwd())),'test','temps')\n",
    "now = time.localtime()\n",
    "s = '%04d-%02d-%02d-%02d-%02d' % (now.tm_year, now.tm_mon, now.tm_mday, now.tm_hour, now.tm_min)\n"
   ]
  },
  {
   "cell_type": "code",
   "execution_count": 3,
   "metadata": {},
   "outputs": [
    {
     "name": "stdout",
     "output_type": "stream",
     "text": [
      "1.유튜브에서 검색할 주제 키워드를 입력하세요(예:올리브영): 여행브이로그\n",
      "2.위 주제로 댓글을 크롤링할 유튜브 영상은 몇건입니까?:5\n",
      "3.각 동영상에서 추출할 댓글은 몇건입니까?: 6\n"
     ]
    }
   ],
   "source": [
    "query_txt=input(\"1.유튜브에서 검색할 주제 키워드를 입력하세요(예:올리브영): \")\n",
    "\n",
    "cnt = int(input('2.위 주제로 댓글을 크롤링할 유튜브 영상은 몇건입니까?:'))\n",
    "reple_cnt = int(input('3.각 동영상에서 추출할 댓글은 몇건입니까?: '))"
   ]
  },
  {
   "cell_type": "code",
   "execution_count": 4,
   "metadata": {},
   "outputs": [],
   "source": [
    "os.makedirs(s_path + '/' + s + query_txt)\n",
    "\n",
    "ff_name = s_path + '/' + s + query_txt + '\\\\' + s + '-' + query_txt + '.txt'\n",
    "fc_name = s_path + '/' + s + query_txt + '\\\\' + s + '-' + query_txt + '.csv'\n",
    "fx_name = s_path + '/' + s + query_txt + '\\\\' + s + '-' + query_txt + '.xls'"
   ]
  },
  {
   "cell_type": "code",
   "execution_count": 5,
   "metadata": {},
   "outputs": [],
   "source": [
    "s_time = time.time()"
   ]
  },
  {
   "cell_type": "markdown",
   "metadata": {},
   "source": [
    "드라이버실행"
   ]
  },
  {
   "cell_type": "code",
   "execution_count": 6,
   "metadata": {},
   "outputs": [],
   "source": [
    "driver = webdriver.Chrome(driverpath)\n",
    "driver.get('https://www.youtube.com')"
   ]
  },
  {
   "cell_type": "code",
   "execution_count": 7,
   "metadata": {},
   "outputs": [],
   "source": [
    "time.sleep(3)\n",
    "element = driver.find_element_by_name('search_query')\n",
    "element.send_keys(query_txt)\n",
    "element.submit()\n",
    "time.sleep(2)"
   ]
  },
  {
   "cell_type": "code",
   "execution_count": 8,
   "metadata": {},
   "outputs": [],
   "source": [
    "def scroll_down(driver,num,sleepnum=5):\n",
    "    #driver.execute_script(\"window.scrollTo(500,document.body.scrollHeight);\")\n",
    "    for i in range(num) :\n",
    "        driver.execute_script(\"window.scrollBy(0,5000);\") # 한페이지 20개씩 출력값\n",
    "        time.sleep(sleepnum)"
   ]
  },
  {
   "cell_type": "code",
   "execution_count": 9,
   "metadata": {},
   "outputs": [],
   "source": [
    "if reple_cnt <20 :\n",
    "    r_cnt = 1\n",
    "else :\n",
    "    r_cnt = math.ceil(reple_cnt/20)\n",
    "    \n",
    "if cnt < 20 :\n",
    "    c_cnt = 1\n",
    "else :\n",
    "    c_cnt = math.ceil(cnt/20)     \n",
    "    scroll_down(driver,c_cnt)\n",
    "\n",
    "    \n",
    "\n"
   ]
  },
  {
   "cell_type": "code",
   "execution_count": 10,
   "metadata": {},
   "outputs": [],
   "source": [
    "html = driver.page_source\n",
    "soup = BeautifulSoup(html,'html.parser')"
   ]
  },
  {
   "cell_type": "code",
   "execution_count": 11,
   "metadata": {},
   "outputs": [],
   "source": [
    "contents =[]\n",
    "count=0"
   ]
  },
  {
   "cell_type": "code",
   "execution_count": 12,
   "metadata": {},
   "outputs": [],
   "source": [
    "for i in soup.find_all('a','yt-simple-endpoint style-scope ytd-video-renderer'):\n",
    "    contents.append('https://www.youtube.com/' +i['href'])\n",
    "    count +=1\n",
    "    if count == cnt :\n",
    "        break"
   ]
  },
  {
   "cell_type": "code",
   "execution_count": null,
   "metadata": {},
   "outputs": [],
   "source": []
  },
  {
   "cell_type": "code",
   "execution_count": 291,
   "metadata": {},
   "outputs": [],
   "source": [
    "wb = openpyxl.Workbook()"
   ]
  },
  {
   "cell_type": "code",
   "execution_count": 292,
   "metadata": {},
   "outputs": [],
   "source": [
    "wb.save(fx_name)"
   ]
  },
  {
   "cell_type": "code",
   "execution_count": 13,
   "metadata": {
    "scrolled": true
   },
   "outputs": [
    {
     "name": "stdout",
     "output_type": "stream",
     "text": [
      "1 번째 동영상 크롤링\n",
      "2 번째 동영상 크롤링\n",
      "3 번째 동영상 크롤링\n",
      "4 번째 동영상 크롤링\n",
      "5 번째 동영상 크롤링\n"
     ]
    }
   ],
   "source": [
    "name = []\n",
    "source =[]\n",
    "like=[]\n",
    "url=[]\n",
    "    \n",
    "for j in range(0,len(contents)):\n",
    "    # 동영상 목록 순차 접속\n",
    "    driver.get(contents[j])\n",
    "    time.sleep(4)\n",
    "    \n",
    "    print('{} 번째 동영상 크롤링'.format(j+1))\n",
    "    scroll_down(driver,r_cnt,7)\n",
    "    \n",
    "    \n",
    "    html = driver.page_source\n",
    "    soup1 = BeautifulSoup(html,'html.parser')\n",
    "    time.sleep(4)\n",
    "    \n",
    "    # 영상 제목\n",
    "    title = soup1.select('#container > h1 > yt-formatted-string')[0].get_text()\n",
    "\n",
    "    # 조회수\n",
    "    view = soup1.select('#count > yt-view-count-renderer > span.view-count.style-scope.yt-view-count-renderer')[0].get_text()\n",
    "    view1 = view.replace(\",\",\"\")\n",
    "    view2 = int(re.search('\\d+',view1).group())\n",
    "\n",
    "    # 총 댓글수\n",
    "    comment = soup1.select('#count > yt-formatted-string')[0].get_text()\n",
    "    \n",
    "    comment1 = comment.replace(\",\",\"\")\n",
    "    comment2 = int(re.search('\\d+',comment1).group())\n",
    "    \n",
    "    # 유투버 명\n",
    "    # 구독자수\n",
    "    # 게시날짜\n",
    "    # 좋아요 수\n",
    "    # 싫어요 수\n",
    "\n",
    "    check = reple_cnt\n",
    "    \n",
    "    # 댓글 추출 갯수 조정\n",
    "    if check > comment2 :\n",
    "        check = comment2\n",
    "    \n",
    "    \n",
    "    count = 0\n",
    "    for k in range(check):\n",
    "        try:\n",
    "            name_s = soup1.select('#author-text')[k].get_text().strip()\n",
    "            source_s = soup1.select('#content-text')[k].get_text()\n",
    "            like_s = soup1.select('#vote-count-middle')[k].get_text().strip()\n",
    "\n",
    "            with open(ff_name,'a',encoding='UTF-8') as f:\n",
    "                f.write(\"------------------------------------------------------------------\"+\"\\n\")\n",
    "                f.write(\"\\n***** {} 번째 영상의 {} 번째  댓글 *****\\n\".format(j+1,count+1))\n",
    "                f.write(\"1.유투브 URL주소 : \" + contents[j] + \"\\n\")\n",
    "                f.write(\"2.댓글 작성자 : \" + name_s + \"\\n\")\n",
    "                f.write(\"3.댓글 내용 : \" + source_s + \"\\n\")\n",
    "                f.write(\"4.댓글 좋아요수 : \" + like_s + \"\\n\\n\")\n",
    "            count +=1\n",
    "                \n",
    "\n",
    "\n",
    "            # 작성자 name\n",
    "            name.append(name_s)\n",
    "            # 댓글 원문\n",
    "            source.append(source_s)\n",
    "            # 댓글 좋아요수\n",
    "            like.append(like_s)\n",
    "            # URL\n",
    "            url.append(contents[j])\n",
    "        \n",
    "        except:\n",
    "            pass"
   ]
  },
  {
   "cell_type": "code",
   "execution_count": 14,
   "metadata": {},
   "outputs": [],
   "source": [
    "youtube_comments=pd.DataFrame()"
   ]
  },
  {
   "cell_type": "code",
   "execution_count": 15,
   "metadata": {},
   "outputs": [],
   "source": [
    "youtube_comments['URL'] = pd.Series(url)\n",
    "youtube_comments['댓글 작성자'] = pd.Series(name)\n",
    "youtube_comments['댓글 내용'] = pd.Series(source)\n",
    "youtube_comments['댓글 좋아요수'] = pd.Series(like)"
   ]
  },
  {
   "cell_type": "code",
   "execution_count": 20,
   "metadata": {},
   "outputs": [],
   "source": [
    "# scv파일저장\n",
    "youtube_comments.to_csv(fc_name,encoding=\"utf-8-sig\",index=True)"
   ]
  },
  {
   "cell_type": "code",
   "execution_count": 19,
   "metadata": {},
   "outputs": [],
   "source": [
    "# xlsx 저장\n",
    "youtube_comments.to_excel(fx_name,\n",
    "             sheet_name=query_txt,\n",
    "             na_rep = '알수없음',\n",
    "             index = False,\n",
    "             header =True)"
   ]
  },
  {
   "cell_type": "code",
   "execution_count": null,
   "metadata": {},
   "outputs": [],
   "source": []
  },
  {
   "cell_type": "code",
   "execution_count": 251,
   "metadata": {},
   "outputs": [],
   "source": [
    "html = driver.page_source\n",
    "soup1 = BeautifulSoup(html,'html.parser')\n"
   ]
  },
  {
   "cell_type": "code",
   "execution_count": null,
   "metadata": {},
   "outputs": [],
   "source": []
  }
 ],
 "metadata": {
  "kernelspec": {
   "display_name": "Python 3",
   "language": "python",
   "name": "python3"
  },
  "language_info": {
   "codemirror_mode": {
    "name": "ipython",
    "version": 3
   },
   "file_extension": ".py",
   "mimetype": "text/x-python",
   "name": "python",
   "nbconvert_exporter": "python",
   "pygments_lexer": "ipython3",
   "version": "3.8.4"
  }
 },
 "nbformat": 4,
 "nbformat_minor": 4
}
