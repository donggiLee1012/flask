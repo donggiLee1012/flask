{
 "cells": [
  {
   "cell_type": "code",
   "execution_count": 7,
   "metadata": {},
   "outputs": [],
   "source": [
    "import OpenSSL"
   ]
  },
  {
   "cell_type": "code",
   "execution_count": 3,
   "metadata": {},
   "outputs": [],
   "source": [
    "import pymysql"
   ]
  },
  {
   "cell_type": "code",
   "execution_count": 10,
   "metadata": {},
   "outputs": [],
   "source": [
    "db = pymysql.connect(host='localhost',\n",
    "                    port=3306,\n",
    "                    user='root',\n",
    "                    passwd='qwerqwer1!',\n",
    "                    db='donggi',\n",
    "                    charset='utf8')"
   ]
  },
  {
   "cell_type": "code",
   "execution_count": 12,
   "metadata": {},
   "outputs": [],
   "source": [
    "cursor = db.cursor()"
   ]
  },
  {
   "cell_type": "code",
   "execution_count": 13,
   "metadata": {},
   "outputs": [],
   "source": [
    "sql= \"\"\"CREATE TABLE test_table(\n",
    "         idx  INT UNSIGNED NOT NULL AUTO_INCREMENT PRIMARY KEY,\n",
    "         name VARCHAR(256) NOT NULL,\n",
    "         nick VARCHAR(256) NOT NULL\n",
    "         );\"\"\"\n"
   ]
  },
  {
   "cell_type": "code",
   "execution_count": 14,
   "metadata": {},
   "outputs": [
    {
     "data": {
      "text/plain": [
       "0"
      ]
     },
     "execution_count": 14,
     "metadata": {},
     "output_type": "execute_result"
    }
   ],
   "source": [
    "cursor.execute(sql)"
   ]
  },
  {
   "cell_type": "code",
   "execution_count": 15,
   "metadata": {},
   "outputs": [
    {
     "data": {
      "text/plain": [
       "1"
      ]
     },
     "execution_count": 15,
     "metadata": {},
     "output_type": "execute_result"
    }
   ],
   "source": [
    "cursor.execute('show tables')"
   ]
  },
  {
   "cell_type": "code",
   "execution_count": 16,
   "metadata": {},
   "outputs": [],
   "source": [
    "db.commit()"
   ]
  },
  {
   "cell_type": "code",
   "execution_count": 17,
   "metadata": {},
   "outputs": [],
   "source": [
    "db.close()"
   ]
  },
  {
   "cell_type": "code",
   "execution_count": 19,
   "metadata": {},
   "outputs": [],
   "source": [
    "import pymysql\n",
    "# use database\n",
    "db= pymysql.connect(host='localhost',\n",
    "                     port=3306,\n",
    "                     user='root',\n",
    "                     passwd='qwerqwer1!',\n",
    "                     db='donggi',\n",
    "                     charset='utf8')\n",
    "# create table\n",
    "try:\n",
    "    with db.cursor() as cursor:\n",
    "        sql= \"\"\"\n",
    "            CREATE TABLE test_table(\n",
    "                   idx  INT UNSIGNED NOT NULL AUTO_INCREMENT PRIMARY KEY,\n",
    "                   name VARCHAR(256) NOT NULL,\n",
    "                   nick VARCHAR(256) NOT NULL,\n",
    "            );\n",
    "        \"\"\"\n",
    "        cursor.execute(sql)\n",
    "        db.commit()\n",
    "finally:\n",
    "    db.close()\n"
   ]
  },
  {
   "cell_type": "code",
   "execution_count": 21,
   "metadata": {},
   "outputs": [],
   "source": [
    "db= pymysql.connect(host='localhost',\n",
    "                     port=3306,\n",
    "                     user='root',\n",
    "                     passwd='qwerqwer1!',\n",
    "                     db='donggi',\n",
    "                     charset='utf8')"
   ]
  },
  {
   "cell_type": "code",
   "execution_count": 22,
   "metadata": {},
   "outputs": [],
   "source": [
    "# Insert query\n",
    "sql= \"\"\"INSERT INTO test_table(name, nick)\n",
    "         VALUES('test_name', 'test_nickname');\"\"\"\n",
    "\n",
    "with db.cursor() as cursor:\n",
    "    cursor.execute(sql)\n",
    "    db.commit()"
   ]
  },
  {
   "cell_type": "code",
   "execution_count": 26,
   "metadata": {},
   "outputs": [],
   "source": [
    "sql= \"\"\"SELECT * FROM test_table\"\"\""
   ]
  },
  {
   "cell_type": "code",
   "execution_count": 28,
   "metadata": {},
   "outputs": [],
   "source": [
    "cursor = db.cursor()\n",
    "cursor.execute(sql)\n",
    "result = cursor.fetchall()"
   ]
  },
  {
   "cell_type": "code",
   "execution_count": 32,
   "metadata": {},
   "outputs": [],
   "source": [
    "#update query\n",
    "sql= \"\"\"UPDATE test_table SET name='%s', nick='%s'\n",
    "         WHERE name='%s' \"\"\" % ('new_test','new_nick','test_name')\n",
    "          \n",
    "# SQL query 실행\n",
    "cursor.execute(sql)\n",
    " \n",
    "# 데이터 변화 적용\n",
    "db.commit()\n"
   ]
  },
  {
   "cell_type": "code",
   "execution_count": 37,
   "metadata": {},
   "outputs": [],
   "source": [
    "sql= \"\"\"INSERT INTO test_table(name, nick)\n",
    "         VALUES('test_name', 'test_nickname'),('one','1');\"\"\"\n"
   ]
  },
  {
   "cell_type": "code",
   "execution_count": null,
   "metadata": {},
   "outputs": [],
   "source": [
    "cursor.execute(sql)\n",
    " \n",
    "# 데이터 변화 적용\n",
    "db.commit()"
   ]
  },
  {
   "cell_type": "code",
   "execution_count": null,
   "metadata": {},
   "outputs": [],
   "source": []
  },
  {
   "cell_type": "code",
   "execution_count": 40,
   "metadata": {},
   "outputs": [
    {
     "name": "stdout",
     "output_type": "stream",
     "text": [
      "()\n"
     ]
    }
   ],
   "source": [
    "result = cursor.fetchall()\n",
    "print(result)"
   ]
  }
 ],
 "metadata": {
  "kernelspec": {
   "display_name": "Python 3",
   "language": "python",
   "name": "python3"
  },
  "language_info": {
   "codemirror_mode": {
    "name": "ipython",
    "version": 3
   },
   "file_extension": ".py",
   "mimetype": "text/x-python",
   "name": "python",
   "nbconvert_exporter": "python",
   "pygments_lexer": "ipython3",
   "version": "3.8.4"
  }
 },
 "nbformat": 4,
 "nbformat_minor": 4
}
