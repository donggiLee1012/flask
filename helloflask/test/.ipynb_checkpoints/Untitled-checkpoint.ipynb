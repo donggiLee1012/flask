{
 "cells": [
  {
   "cell_type": "code",
   "execution_count": 1,
   "metadata": {},
   "outputs": [],
   "source": [
    "#-*-coding:utf-8-*-\n",
    "\n",
    "# 연습문제 8-3: 유튜브 댓글 수집하는 크롤러\n",
    "\n",
    "#Step 1. 필요한 모듈과 라이브러리를 로딩합니다.\n",
    "\n",
    "from bs4 import BeautifulSoup\n",
    "from selenium import webdriver\n",
    "\n",
    "import time\n",
    "import sys\n",
    "import re\n",
    "import math\n",
    "import numpy \n",
    "import pandas as pd   \n",
    "import xlwt \n",
    "import random\n",
    "import os\n",
    "import openpyxl\n"
   ]
  },
  {
   "cell_type": "code",
   "execution_count": 23,
   "metadata": {},
   "outputs": [
    {
     "data": {
      "text/plain": [
       "'C:\\\\Users\\\\donggi\\\\Desktop\\\\python_flask\\\\helloflask\\\\test\\\\temps'"
      ]
     },
     "execution_count": 23,
     "metadata": {},
     "output_type": "execute_result"
    }
   ],
   "source": [
    "os.path.join(os.path.dirname(os.path.abspath(os.getcwd())),'test','temps')"
   ]
  },
  {
   "cell_type": "code",
   "execution_count": 17,
   "metadata": {},
   "outputs": [
    {
     "data": {
      "text/plain": [
       "'C:\\\\Users\\\\donggi\\\\Desktop\\\\python_flask\\\\helloflask'"
      ]
     },
     "execution_count": 17,
     "metadata": {},
     "output_type": "execute_result"
    }
   ],
   "source": [
    "os.path.dirname(os.getcwd()),test,temps\n"
   ]
  },
  {
   "cell_type": "code",
   "execution_count": 24,
   "metadata": {},
   "outputs": [],
   "source": [
    "driverpath = os.path.join(os.path.dirname(os.getcwd()),'module','chromedriver.exe')\n",
    "\n",
    "s_path =os.path.join(os.path.dirname(os.path.abspath(os.getcwd())),'test','temps')\n",
    "now = time.localtime()\n",
    "s = '%04d-%02d-%02d-%02d-%02d-%02d' % (now.tm_year, now.tm_mon, now.tm_mday, now.tm_hour, now.tm_min, now.tm_sec)\n"
   ]
  },
  {
   "cell_type": "code",
   "execution_count": 25,
   "metadata": {},
   "outputs": [
    {
     "name": "stdout",
     "output_type": "stream",
     "text": [
      "1.유튜브에서 검색할 주제 키워드를 입력하세요(예:올리브영): 인플루언서\n",
      "2.위 주제로 댓글을 크롤링할 유튜브 영상은 몇건입니까?:5\n",
      "3.각 동영상에서 추출할 댓글은 몇건입니까?: 5\n"
     ]
    }
   ],
   "source": [
    "query_txt=input(\"1.유튜브에서 검색할 주제 키워드를 입력하세요(예:올리브영): \")\n",
    "\n",
    "cnt = int(input('2.위 주제로 댓글을 크롤링할 유튜브 영상은 몇건입니까?:'))\n",
    "reple_cnt = int(input('3.각 동영상에서 추출할 댓글은 몇건입니까?: '))"
   ]
  },
  {
   "cell_type": "code",
   "execution_count": 26,
   "metadata": {},
   "outputs": [],
   "source": [
    "os.makedirs(s_path + '/' + s + query_txt)\n",
    "\n",
    "ff_name = s_path + '/' + s + query_txt + '\\\\' + s + '-' + query_txt + '.txt'\n",
    "fc_name = s_path + '/' + s + query_txt + '\\\\' + s + '-' + query_txt + '.csv'\n",
    "fx_name = s_path + '/' + s + query_txt + '\\\\' + s + '-' + query_txt + '.xls'"
   ]
  },
  {
   "cell_type": "code",
   "execution_count": 27,
   "metadata": {},
   "outputs": [],
   "source": [
    "s_time = time.time()"
   ]
  },
  {
   "cell_type": "markdown",
   "metadata": {},
   "source": [
    "드라이버실행"
   ]
  },
  {
   "cell_type": "code",
   "execution_count": 29,
   "metadata": {},
   "outputs": [],
   "source": [
    "driver = webdriver.Chrome(driverpath)\n",
    "driver.get('https://www.youtube.com')"
   ]
  },
  {
   "cell_type": "code",
   "execution_count": 31,
   "metadata": {},
   "outputs": [],
   "source": [
    "time.sleep(3)\n",
    "element = driver.find_element_by_name('search_query')\n",
    "element.send_keys(query_txt)\n",
    "element.submit()\n",
    "time.sleep(2)"
   ]
  },
  {
   "cell_type": "code",
   "execution_count": 121,
   "metadata": {},
   "outputs": [],
   "source": [
    "def scroll_down(driver,num,sleepnum=5):\n",
    "    #driver.execute_script(\"window.scrollTo(500,document.body.scrollHeight);\")\n",
    "    for i in range(num) :\n",
    "        driver.execute_script(\"window.scrollBy(0,5000);\") # 한페이지 20개씩 출력값\n",
    "        time.sleep(sleepnum)"
   ]
  },
  {
   "cell_type": "code",
   "execution_count": 109,
   "metadata": {},
   "outputs": [],
   "source": [
    "if reple_cnt <20 :\n",
    "    r_cnt = 1\n",
    "else :\n",
    "    r_cnt = math.ceil(reple_cnt/20)\n",
    "    \n",
    "if cnt < 20 :\n",
    "    c_cnt = 1\n",
    "else :\n",
    "    c_cnt = math.ceil(cnt/20)     \n",
    "    scroll_down(driver,c_cnt)\n",
    "\n",
    "    \n",
    "\n"
   ]
  },
  {
   "cell_type": "code",
   "execution_count": 68,
   "metadata": {},
   "outputs": [],
   "source": [
    "html = driver.page_source\n",
    "soup = BeautifulSoup(html,'html.parser')"
   ]
  },
  {
   "cell_type": "code",
   "execution_count": 85,
   "metadata": {},
   "outputs": [],
   "source": [
    "contents =[]\n",
    "count=0"
   ]
  },
  {
   "cell_type": "code",
   "execution_count": 86,
   "metadata": {},
   "outputs": [],
   "source": [
    "for i in soup.select(\"#thumbnail\")[:-1] :\n",
    "    contents.append('https://www.youtube.com/' +i['href'])\n",
    "    count +=1\n",
    "    if count == cnt :\n",
    "        break"
   ]
  },
  {
   "cell_type": "code",
   "execution_count": 88,
   "metadata": {},
   "outputs": [],
   "source": [
    "wb = openpyxl.Workbook()"
   ]
  },
  {
   "cell_type": "code",
   "execution_count": null,
   "metadata": {},
   "outputs": [],
   "source": [
    "wb.save(fx_name)"
   ]
  },
  {
   "cell_type": "code",
   "execution_count": 280,
   "metadata": {},
   "outputs": [
    {
     "name": "stdout",
     "output_type": "stream",
     "text": [
      "1 번째 동영상 크롤링\n",
      "2 번째 동영상 크롤링\n",
      "3 번째 동영상 크롤링\n",
      "4 번째 동영상 크롤링\n",
      "5 번째 동영상 크롤링\n"
     ]
    }
   ],
   "source": [
    "name = []\n",
    "source =[]\n",
    "like=[]\n",
    "url=[]\n",
    "    \n",
    "for j in range(0,len(contents)):\n",
    "    # 동영상 목록 순차 접속\n",
    "    driver.get(contents[j])\n",
    "    time.sleep(4)\n",
    "    \n",
    "    print('{} 번째 동영상 크롤링'.format(j+1))\n",
    "    scroll_down(driver,r_cnt,7)\n",
    "    \n",
    "    html = driver.page_source\n",
    "    soup1 = BeautifulSoup(html,'html.parser')\n",
    "    \n",
    "    # 영상 제목\n",
    "    title = soup1.select('#container > h1 > yt-formatted-string')[0].get_text()\n",
    "\n",
    "    # 조회수\n",
    "    view = soup1.select('#count > yt-view-count-renderer > span.view-count.style-scope.yt-view-count-renderer')[0].get_text()\n",
    "    view1 = view.replace(\",\",\"\")\n",
    "    view2 = int(re.search('\\d+',view1).group())\n",
    "\n",
    "    # 총 댓글수\n",
    "    comment = soup1.select('#count > yt-formatted-string')[0].get_text()\n",
    "    comment1 = comment.replace(\",\",\"\")\n",
    "    comment2 = int(re.search('\\d+',comment1).group())\n",
    "    \n",
    "    # 유투버 명\n",
    "    # 구독자수\n",
    "    # 게시날짜\n",
    "    # 좋아요 수\n",
    "    # 싫어요 수\n",
    "\n",
    "\n",
    "    # 댓글 추출 갯수 조정\n",
    "    if reple_cnt > comment2 :\n",
    "        reple_cnt = comment2\n",
    "    \n",
    "    \n",
    "    count = 0\n",
    "    for k in range(reple_cnt):\n",
    "        try:\n",
    "            name_s = soup1.select('#author-text')[k].get_text().strip()\n",
    "            source_s = soup1.select('#content-text')[k].get_text()\n",
    "            like_s = soup1.select('#vote-count-middle')[k].get_text().strip()\n",
    "\n",
    "            with open(ff_name,'a',encoding='UTF-8') as f:\n",
    "                f.write(\"------------------------------------------------------------------\"+\"\\n\")\n",
    "                f.write(\"\\n***** {} 번째 영상의 {} 번째  댓글 *****\\n\".format(j+1,count+1))\n",
    "                f.write(\"1.유투브 URL주소 : \" + contents[j] + \"\\n\")\n",
    "                f.write(\"2.댓글 작성자 : \" + name_s + \"\\n\")\n",
    "                f.write(\"3.댓글 내용 : \" + source_s + \"\\n\")\n",
    "                f.write(\"4.댓글 좋아요수 : \" + source_s + \"\\n\\n\")\n",
    "            count +=1\n",
    "                \n",
    "\n",
    "\n",
    "            # 작성자 name\n",
    "            name.append(name_s)\n",
    "            # 댓글 원문\n",
    "            source.append(source_s)\n",
    "            # 댓글 좋아요수\n",
    "            like.append(like_s)\n",
    "            # URL\n",
    "            url.append(contents[j])\n",
    "        \n",
    "        except:\n",
    "            pass"
   ]
  },
  {
   "cell_type": "code",
   "execution_count": 273,
   "metadata": {},
   "outputs": [],
   "source": [
    "youtube_comments=pd.DataFrame()"
   ]
  },
  {
   "cell_type": "code",
   "execution_count": 274,
   "metadata": {},
   "outputs": [],
   "source": [
    "youtube_comments['URL'] = pd.Series(url)\n",
    "youtube_comments['댓글 작성자'] = pd.Series(name)\n",
    "youtube_comments['댓글 내용'] = pd.Series(source)\n",
    "youtube_comments['댓글 좋아요수'] = pd.Series(like)"
   ]
  },
  {
   "cell_type": "code",
   "execution_count": 275,
   "metadata": {},
   "outputs": [
    {
     "data": {
      "text/html": [
       "<div>\n",
       "<style scoped>\n",
       "    .dataframe tbody tr th:only-of-type {\n",
       "        vertical-align: middle;\n",
       "    }\n",
       "\n",
       "    .dataframe tbody tr th {\n",
       "        vertical-align: top;\n",
       "    }\n",
       "\n",
       "    .dataframe thead th {\n",
       "        text-align: right;\n",
       "    }\n",
       "</style>\n",
       "<table border=\"1\" class=\"dataframe\">\n",
       "  <thead>\n",
       "    <tr style=\"text-align: right;\">\n",
       "      <th></th>\n",
       "      <th>URL</th>\n",
       "      <th>댓글 작성자</th>\n",
       "      <th>댓글 내용</th>\n",
       "      <th>댓글 좋아요수</th>\n",
       "    </tr>\n",
       "  </thead>\n",
       "  <tbody>\n",
       "    <tr>\n",
       "      <th>0</th>\n",
       "      <td>https://www.youtube.com//watch?v=TxC5sNHOh3g</td>\n",
       "      <td>Burnout Fighter</td>\n",
       "      <td>박대기 기자님도 20 ~ 30대 네티즌들 사이에서는 추억을 가져다주는 인플루언서 이...</td>\n",
       "      <td>7</td>\n",
       "    </tr>\n",
       "    <tr>\n",
       "      <th>1</th>\n",
       "      <td>https://www.youtube.com//watch?v=TxC5sNHOh3g</td>\n",
       "      <td>달수</td>\n",
       "      <td>박기자님 넘 반갑네요 ㅠ</td>\n",
       "      <td>0</td>\n",
       "    </tr>\n",
       "    <tr>\n",
       "      <th>2</th>\n",
       "      <td>https://www.youtube.com//watch?v=TxC5sNHOh3g</td>\n",
       "      <td>좋은 유튜브 인증마크</td>\n",
       "      <td>쾅!</td>\n",
       "      <td>0</td>\n",
       "    </tr>\n",
       "    <tr>\n",
       "      <th>3</th>\n",
       "      <td>https://www.youtube.com//watch?v=Vs314r3HsN4</td>\n",
       "      <td>담백한브랜딩, 드로우앤드류</td>\n",
       "      <td>너무 바빠서 7분짜리도 끝까지 못보겠는 사람 -&gt; 4:59</td>\n",
       "      <td>49</td>\n",
       "    </tr>\n",
       "    <tr>\n",
       "      <th>4</th>\n",
       "      <td>https://www.youtube.com//watch?v=Vs314r3HsN4</td>\n",
       "      <td>KimchiBBQ친구</td>\n",
       "      <td>앤드류님 안녕하세요! 이 영상보면서 드류님체널 구독하길 참 잘했다는 생각을 했습니다...</td>\n",
       "      <td>8</td>\n",
       "    </tr>\n",
       "    <tr>\n",
       "      <th>5</th>\n",
       "      <td>https://www.youtube.com//watch?v=Vs314r3HsN4</td>\n",
       "      <td>zoo</td>\n",
       "      <td>5:04 여기서부 찐이다 다시한번 생각하게 되는 계기가 되네요 너무 와닿아요 도움되...</td>\n",
       "      <td>3</td>\n",
       "    </tr>\n",
       "    <tr>\n",
       "      <th>6</th>\n",
       "      <td>https://www.youtube.com//watch?v=iQC5kObE3Hk</td>\n",
       "      <td>Leah to you리아투유</td>\n",
       "      <td>👉 다른 인스타그램 영상 보러가기 👈\\r\\n해시태그 올바른 사용법 https://y...</td>\n",
       "      <td>3</td>\n",
       "    </tr>\n",
       "    <tr>\n",
       "      <th>7</th>\n",
       "      <td>https://www.youtube.com//watch?v=iQC5kObE3Hk</td>\n",
       "      <td>워니워니VxV</td>\n",
       "      <td>좋은 정보 감사합니다~🙏\\n존맛탱에서 ..... 빵 터졌음돠 ㅋㅋ</td>\n",
       "      <td>2</td>\n",
       "    </tr>\n",
       "    <tr>\n",
       "      <th>8</th>\n",
       "      <td>https://www.youtube.com//watch?v=iQC5kObE3Hk</td>\n",
       "      <td>시간을거스르는자</td>\n",
       "      <td>진짜이렇게말씀하시는분들이 꽤많은거같아요ㅡ 인플루언서들의 삶이 껍데기,라든가 마냥 이...</td>\n",
       "      <td>1</td>\n",
       "    </tr>\n",
       "    <tr>\n",
       "      <th>9</th>\n",
       "      <td>https://www.youtube.com//watch?v=HJPzNVnL7GU</td>\n",
       "      <td>패션공장공장장</td>\n",
       "      <td>두번 까이고선 포기했어요... ㅠㅠㅋㅋㅋ 전 약간 패션 관련 일 야사다보니</td>\n",
       "      <td>0</td>\n",
       "    </tr>\n",
       "    <tr>\n",
       "      <th>10</th>\n",
       "      <td>https://www.youtube.com//watch?v=HJPzNVnL7GU</td>\n",
       "      <td>커피집트립케이터링</td>\n",
       "      <td>저 오늘 인플되었어요 고맙습니다. 많이 보고 배우고 있습니다 6수 만에 인플 길었다.ㅎㅎ</td>\n",
       "      <td>0</td>\n",
       "    </tr>\n",
       "    <tr>\n",
       "      <th>11</th>\n",
       "      <td>https://www.youtube.com//watch?v=HJPzNVnL7GU</td>\n",
       "      <td>park짠맛</td>\n",
       "      <td>인플루서 신청전  블로그 조회수와 이웃수가 어떻게되시나요?</td>\n",
       "      <td>0</td>\n",
       "    </tr>\n",
       "    <tr>\n",
       "      <th>12</th>\n",
       "      <td>https://www.youtube.com//watch?v=Z9wzz_DBWS8</td>\n",
       "      <td>Yuho Jung</td>\n",
       "      <td>인플루언서들도 다 돈 받고 좋은 척 하는건데 차라리 돈 더주고 검증된 대기업 제품 ...</td>\n",
       "      <td>31</td>\n",
       "    </tr>\n",
       "    <tr>\n",
       "      <th>13</th>\n",
       "      <td>https://www.youtube.com//watch?v=Z9wzz_DBWS8</td>\n",
       "      <td>박영재</td>\n",
       "      <td>남편은 모르고 있어요가 더 소름이다.</td>\n",
       "      <td>4</td>\n",
       "    </tr>\n",
       "    <tr>\n",
       "      <th>14</th>\n",
       "      <td>https://www.youtube.com//watch?v=Z9wzz_DBWS8</td>\n",
       "      <td>김동욱</td>\n",
       "      <td>썸네일 이쁘셔서 들어옴</td>\n",
       "      <td>0</td>\n",
       "    </tr>\n",
       "  </tbody>\n",
       "</table>\n",
       "</div>"
      ],
      "text/plain": [
       "                                             URL           댓글 작성자  \\\n",
       "0   https://www.youtube.com//watch?v=TxC5sNHOh3g  Burnout Fighter   \n",
       "1   https://www.youtube.com//watch?v=TxC5sNHOh3g               달수   \n",
       "2   https://www.youtube.com//watch?v=TxC5sNHOh3g      좋은 유튜브 인증마크   \n",
       "3   https://www.youtube.com//watch?v=Vs314r3HsN4   담백한브랜딩, 드로우앤드류   \n",
       "4   https://www.youtube.com//watch?v=Vs314r3HsN4      KimchiBBQ친구   \n",
       "5   https://www.youtube.com//watch?v=Vs314r3HsN4              zoo   \n",
       "6   https://www.youtube.com//watch?v=iQC5kObE3Hk  Leah to you리아투유   \n",
       "7   https://www.youtube.com//watch?v=iQC5kObE3Hk          워니워니VxV   \n",
       "8   https://www.youtube.com//watch?v=iQC5kObE3Hk         시간을거스르는자   \n",
       "9   https://www.youtube.com//watch?v=HJPzNVnL7GU          패션공장공장장   \n",
       "10  https://www.youtube.com//watch?v=HJPzNVnL7GU        커피집트립케이터링   \n",
       "11  https://www.youtube.com//watch?v=HJPzNVnL7GU           park짠맛   \n",
       "12  https://www.youtube.com//watch?v=Z9wzz_DBWS8        Yuho Jung   \n",
       "13  https://www.youtube.com//watch?v=Z9wzz_DBWS8              박영재   \n",
       "14  https://www.youtube.com//watch?v=Z9wzz_DBWS8              김동욱   \n",
       "\n",
       "                                                댓글 내용 댓글 좋아요수  \n",
       "0   박대기 기자님도 20 ~ 30대 네티즌들 사이에서는 추억을 가져다주는 인플루언서 이...       7  \n",
       "1                                       박기자님 넘 반갑네요 ㅠ       0  \n",
       "2                                                  쾅!       0  \n",
       "3                    너무 바빠서 7분짜리도 끝까지 못보겠는 사람 -> 4:59      49  \n",
       "4   앤드류님 안녕하세요! 이 영상보면서 드류님체널 구독하길 참 잘했다는 생각을 했습니다...       8  \n",
       "5   5:04 여기서부 찐이다 다시한번 생각하게 되는 계기가 되네요 너무 와닿아요 도움되...       3  \n",
       "6   👉 다른 인스타그램 영상 보러가기 👈\\r\\n해시태그 올바른 사용법 https://y...       3  \n",
       "7                좋은 정보 감사합니다~🙏\\n존맛탱에서 ..... 빵 터졌음돠 ㅋㅋ       2  \n",
       "8   진짜이렇게말씀하시는분들이 꽤많은거같아요ㅡ 인플루언서들의 삶이 껍데기,라든가 마냥 이...       1  \n",
       "9           두번 까이고선 포기했어요... ㅠㅠㅋㅋㅋ 전 약간 패션 관련 일 야사다보니       0  \n",
       "10  저 오늘 인플되었어요 고맙습니다. 많이 보고 배우고 있습니다 6수 만에 인플 길었다.ㅎㅎ       0  \n",
       "11                   인플루서 신청전  블로그 조회수와 이웃수가 어떻게되시나요?       0  \n",
       "12  인플루언서들도 다 돈 받고 좋은 척 하는건데 차라리 돈 더주고 검증된 대기업 제품 ...      31  \n",
       "13                               남편은 모르고 있어요가 더 소름이다.       4  \n",
       "14                                       썸네일 이쁘셔서 들어옴       0  "
      ]
     },
     "execution_count": 275,
     "metadata": {},
     "output_type": "execute_result"
    }
   ],
   "source": [
    "youtube_comments"
   ]
  },
  {
   "cell_type": "code",
   "execution_count": 276,
   "metadata": {},
   "outputs": [
    {
     "data": {
      "text/plain": [
       "'C:\\\\Users\\\\donggi\\\\Desktop\\\\python_flask\\\\helloflask\\\\test\\\\temps/2020-07-27-18-29-23인플루언서\\\\2020-07-27-18-29-23-인플루언서.csv'"
      ]
     },
     "execution_count": 276,
     "metadata": {},
     "output_type": "execute_result"
    }
   ],
   "source": [
    "fc_name"
   ]
  },
  {
   "cell_type": "code",
   "execution_count": 277,
   "metadata": {},
   "outputs": [],
   "source": [
    "youtube_comments.to_csv(fc_name,encoding=\"utf-8-sig\",index=True)"
   ]
  },
  {
   "cell_type": "code",
   "execution_count": null,
   "metadata": {},
   "outputs": [],
   "source": []
  },
  {
   "cell_type": "code",
   "execution_count": 278,
   "metadata": {},
   "outputs": [],
   "source": [
    "# xlsx 저장\n",
    "youtube_comments.to_excel(fx_name,\n",
    "             sheet_name=query_txt,\n",
    "             na_rep = '알수없음',\n",
    "             index = False,\n",
    "             header =True)"
   ]
  },
  {
   "cell_type": "code",
   "execution_count": null,
   "metadata": {},
   "outputs": [],
   "source": []
  },
  {
   "cell_type": "code",
   "execution_count": 251,
   "metadata": {},
   "outputs": [],
   "source": [
    "html = driver.page_source\n",
    "soup1 = BeautifulSoup(html,'html.parser')\n"
   ]
  },
  {
   "cell_type": "code",
   "execution_count": null,
   "metadata": {},
   "outputs": [],
   "source": []
  }
 ],
 "metadata": {
  "kernelspec": {
   "display_name": "Python 3",
   "language": "python",
   "name": "python3"
  },
  "language_info": {
   "codemirror_mode": {
    "name": "ipython",
    "version": 3
   },
   "file_extension": ".py",
   "mimetype": "text/x-python",
   "name": "python",
   "nbconvert_exporter": "python",
   "pygments_lexer": "ipython3",
   "version": "3.8.4"
  }
 },
 "nbformat": 4,
 "nbformat_minor": 4
}
