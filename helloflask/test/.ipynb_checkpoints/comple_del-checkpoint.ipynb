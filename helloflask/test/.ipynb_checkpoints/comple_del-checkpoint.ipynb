{
 "cells": [
  {
   "cell_type": "code",
   "execution_count": 42,
   "metadata": {},
   "outputs": [],
   "source": [
    "import math\n",
    "\n",
    "from bs4 import BeautifulSoup\n",
    "from selenium import webdriver\n",
    "from selenium.webdriver.common.keys import Keys\n",
    "from selenium.webdriver.remote.webelement import WebElement\n",
    "import re\n",
    "import numpy as np\n",
    "import pandas as pd\n",
    "import time\n",
    "from selenium.webdriver.common.by import By\n",
    "\n",
    "import os,sys\n",
    "\n",
    "print(os.getcwd())\n",
    "\n",
    "\n",
    "robots = 'robots.txt'\n",
    "footsell = 'https://footsell.com'\n",
    "f_uri = r'/g2/bbs/board.php?bo_table=m51&r=ok'\n",
    "# request로 driver 없는거로 바꿔주자\n",
    "driverpath = r'C:\\Users\\donggi\\Desktop\\python_flask\\helloflask\\module\\chromedriver.exe'\n",
    "\n",
    "\n",
    "#     self.driver = webdriver.Chrome(Footsell.driverpath)\n",
    "#     self.df = pd.DataFrame(columns=['title', 'size', 'condition', 'price', 'days', 'seller', 'site'])\n",
    "#     self.search = ''\n",
    "#     self.homepath = os.path.expanduser('~')\n",
    "\n",
    "#     s_path = os.path.join(self.homepath, 'Desktop', 'footsell_marketprice')\n",
    "#     self.time_marker = time.strftime('%Y-%m-%d', time.localtime())\n",
    "#     self.query_txt = query_txt\n",
    "driver = webdriver.Chrome(driverpath)\n",
    "homepath = os.path.expanduser('~')\n",
    "s_path = os.path.join(homepath, 'Desktop', 'footsell_marketprice')\n",
    "time_marker = time.strftime('%Y-%m-%d', time.localtime())\n",
    "query_txt = input('입력하시오.')\n",
    "\n",
    "size = '260'\n",
    "many = 50"
   ]
  },
  {
   "cell_type": "code",
   "execution_count": 6,
   "metadata": {},
   "outputs": [],
   "source": [
    "driver.implicitly_wait(10)\n",
    "driver.get(footsell + f_uri)"
   ]
  },
  {
   "cell_type": "code",
   "execution_count": 7,
   "metadata": {},
   "outputs": [],
   "source": [
    "# 검색\n",
    "search_box = driver.find_element_by_css_selector('#list_search_text_input')\n",
    "search_box.send_keys(query_txt)\n",
    "search_box.send_keys(Keys.ENTER)"
   ]
  },
  {
   "cell_type": "code",
   "execution_count": 37,
   "metadata": {},
   "outputs": [],
   "source": [
    "# 사이즈별 선택한게있으면 실행\n",
    "input_size ='option[value=\"'+'{}\"]'.format(size)\n",
    "\n",
    "size_select=driver.find_element(By.CSS_SELECTOR,input_size)\n",
    "\n",
    "size_select.click()"
   ]
  },
  {
   "cell_type": "code",
   "execution_count": 85,
   "metadata": {},
   "outputs": [],
   "source": [
    "# 검색할 페이지 수\n",
    "search=math.ceil(int(many)/ 40)"
   ]
  },
  {
   "cell_type": "code",
   "execution_count": 86,
   "metadata": {},
   "outputs": [
    {
     "data": {
      "text/plain": [
       "2"
      ]
     },
     "execution_count": 86,
     "metadata": {},
     "output_type": "execute_result"
    }
   ],
   "source": [
    "int(current_page)+1"
   ]
  },
  {
   "cell_type": "code",
   "execution_count": 102,
   "metadata": {},
   "outputs": [],
   "source": [
    "#page"
   ]
  },
  {
   "cell_type": "code",
   "execution_count": 116,
   "metadata": {},
   "outputs": [],
   "source": [
    "count = 0"
   ]
  },
  {
   "cell_type": "code",
   "execution_count": 117,
   "metadata": {},
   "outputs": [],
   "source": [
    "page=driver.find_elements(By.CSS_SELECTOR,'#main_container > table > tbody > tr > td:nth-child(2) > ul > li> a')    \n"
   ]
  },
  {
   "cell_type": "code",
   "execution_count": 131,
   "metadata": {},
   "outputs": [
    {
     "data": {
      "text/plain": [
       "'더 검색'"
      ]
     },
     "execution_count": 131,
     "metadata": {},
     "output_type": "execute_result"
    }
   ],
   "source": [
    "#page[0].text\n",
    "re.search('\\D*',page[0].text).group()"
   ]
  },
  {
   "cell_type": "code",
   "execution_count": null,
   "metadata": {},
   "outputs": [],
   "source": [
    " re.search('.*전', rdate_s).group()"
   ]
  },
  {
   "cell_type": "markdown",
   "metadata": {},
   "source": [
    "뭐를 이만큼 검색할거다\n",
    "    1. 뭐가 아예없을때\n",
    "    2. 이만큼을 원했는데 저만큼박에없을때\n",
    "    3. 원하는 시나리오대로 진행될때\n",
    "        3_1. 이만큼이 엄청많을때\n",
    "        3_2. 이만큼이 10페이지 안으로 있을때"
   ]
  },
  {
   "cell_type": "code",
   "execution_count": null,
   "metadata": {},
   "outputs": [],
   "source": [
    "# \n",
    "while(count =! search):\n",
    "    # 검색결과 페이지 수\n",
    "    page=driver.find_elements(By.CSS_SELECTOR,'#main_container > table > tbody > tr > td:nth-child(2) > ul > li> a')    \n",
    "    \n",
    "    for i in page:\n",
    "    if i.text\n",
    "    elif str(count+1) == i.text:\n",
    "        print(i.text)\n",
    "        i.click()\n",
    "        break\n",
    "    \n",
    "    count +=1\n",
    "    \n",
    "    \n",
    "    "
   ]
  },
  {
   "cell_type": "code",
   "execution_count": 109,
   "metadata": {},
   "outputs": [
    {
     "name": "stdout",
     "output_type": "stream",
     "text": [
      "2\n"
     ]
    }
   ],
   "source": [
    "# 다음페이지 찾은후 클릭\n",
    "count = 0\n",
    "\n",
    "for i in page:\n",
    "    if str(int(current_page)+1) == i.text:\n",
    "        print(i.text)\n",
    "        i.click()\n",
    "        break\n",
    "count +=1\n",
    "if count == search :\n",
    "    # 종료\n",
    "    print('검색끝!')"
   ]
  },
  {
   "cell_type": "code",
   "execution_count": 136,
   "metadata": {},
   "outputs": [],
   "source": [
    "html = driver.page_source\n",
    "soup = BeautifulSoup(html, 'html.parser')\n",
    "time.sleep(2)\n",
    "border_list = soup.find_all(id=re.compile('list_row_'))\n",
    "\n",
    "if search == \"\":\n",
    "\n",
    "    # 검색값없으면\n",
    "    border_list = border_list[3:]\n",
    "else:\n",
    "    pass"
   ]
  },
  {
   "cell_type": "code",
   "execution_count": 168,
   "metadata": {},
   "outputs": [],
   "source": [
    "html = driver.page_source\n",
    "soup = BeautifulSoup(html, 'html.parser')\n",
    "time.sleep(2)\n",
    "border_list = soup.find_all(id=re.compile('list_row_'))"
   ]
  },
  {
   "cell_type": "code",
   "execution_count": 172,
   "metadata": {},
   "outputs": [
    {
     "name": "stdout",
     "output_type": "stream",
     "text": [
      "\n"
     ]
    }
   ],
   "source": [
    "if len(border_list) <40:\n",
    "    #최근자료만할거면\n",
    "    #현제페이지까지만 파싱후 끝\n",
    "    \n",
    "    #필요없고 갯수맞출거다\n",
    "    #다음페이지 ㄱㄱ 갯수맞을때까지"
   ]
  },
  {
   "cell_type": "code",
   "execution_count": null,
   "metadata": {},
   "outputs": [],
   "source": [
    "count += 1 \n",
    "if count == many :# 검색할갯수\n",
    "    #종료"
   ]
  },
  {
   "cell_type": "code",
   "execution_count": 259,
   "metadata": {},
   "outputs": [],
   "source": [
    "def parser2(soup_list):  \n",
    "    \n",
    "    for j in range(math.ceil(int(many)/ 40)):\n",
    "        html = driver.page_source\n",
    "        soup = BeautifulSoup(html, 'html.parser')\n",
    "        time.sleep(2)\n",
    "        border_list = soup.find_all(id=re.compile('list_row_'))\n",
    "        \n",
    "        if border_list==[]:\n",
    "            print('검색결과없음')\n",
    "            break\n",
    "            \n",
    "        soup_list.append(border_list)\n",
    "        \n",
    "        try:\n",
    "            driver.find_elements(By.CSS_SELECTOR, 'ul>li>a')[j].send_keys(Keys.ENTER)\n",
    "        except:\n",
    "            break\n",
    "   "
   ]
  },
  {
   "cell_type": "code",
   "execution_count": 277,
   "metadata": {},
   "outputs": [],
   "source": [
    "soup_list=[]\n",
    "count=0\n",
    "pool=[]"
   ]
  },
  {
   "cell_type": "code",
   "execution_count": 278,
   "metadata": {},
   "outputs": [],
   "source": [
    "parser2(soup_list)\n",
    "\n",
    "for j in soup_list :\n",
    "    for i in j:\n",
    "        pool.append(check(i))\n",
    "        count+=1\n",
    "        if count ==many:\n",
    "            break"
   ]
  },
  {
   "cell_type": "code",
   "execution_count": 266,
   "metadata": {},
   "outputs": [
    {
     "data": {
      "text/plain": [
       "2"
      ]
     },
     "execution_count": 266,
     "metadata": {},
     "output_type": "execute_result"
    }
   ],
   "source": [
    "len(soup_list)"
   ]
  },
  {
   "cell_type": "code",
   "execution_count": 287,
   "metadata": {},
   "outputs": [
    {
     "data": {
      "text/plain": [
       "['오프화이트 와플레이서 파랑',\n",
       " '새제품',\n",
       " '265mm',\n",
       " '₩200,000',\n",
       " '토니토니',\n",
       " '20-08-12',\n",
       " '/g2/bbs/board.php?bo_table=m51&wr_id=752648&sca=&sfl=wr_subject&stx=%EC%98%A4%ED%94%84%ED%99%94%EC%9D%B4%ED%8A%B8+%ED%8C%8C%EB%9E%91&sop=and&scrap_mode=&size1=&price1=0&price2=0',\n",
       " '/g2/data/file/m51/list_thumbnail/thumb_1587550024_b5eecfb445a6052e2c0997c009026f7f.jpg']"
      ]
     },
     "execution_count": 287,
     "metadata": {},
     "output_type": "execute_result"
    }
   ],
   "source": [
    "len(pool[0])"
   ]
  },
  {
   "cell_type": "code",
   "execution_count": 239,
   "metadata": {},
   "outputs": [
    {
     "data": {
      "text/plain": [
       "50"
      ]
     },
     "execution_count": 239,
     "metadata": {},
     "output_type": "execute_result"
    }
   ],
   "source": [
    "count"
   ]
  },
  {
   "cell_type": "code",
   "execution_count": 224,
   "metadata": {},
   "outputs": [
    {
     "data": {
      "text/plain": [
       "1"
      ]
     },
     "execution_count": 224,
     "metadata": {},
     "output_type": "execute_result"
    }
   ],
   "source": [
    "len(soup_list)"
   ]
  },
  {
   "cell_type": "code",
   "execution_count": null,
   "metadata": {},
   "outputs": [],
   "source": [
    "def parser():\n",
    "    pool_list = []\n",
    "    \n",
    "    page = self.driver.find_elements(By.CSS_SELECTOR, 'ul>li>a')\n",
    "\n",
    "    if len(page) > 10:\n",
    "        for i in range(len(page) - 1):\n",
    "            html = self.driver.page_source\n",
    "            soup = BeautifulSoup(html, 'html.parser')\n",
    "            time.sleep(2)\n",
    "            border_list = soup.find_all(id=re.compile('list_row_'))\n",
    "\n",
    "            if self.search == \"\":\n",
    "\n",
    "                # 검색값없으면\n",
    "                border_list = border_list[3:]\n",
    "            else:\n",
    "                pass\n",
    "\n",
    "            for j in border_list:\n",
    "                pool_list.append(Footsell.check(j, time_marker))\n",
    "\n",
    "            self.driver.find_elements(By.CSS_SELECTOR, 'ul>li>a')[i].send_keys(Keys.ENTER)\n",
    "            time.sleep(3)\n",
    "\n",
    "    elif len(page) <= 10:\n",
    "        for i in range(len(page)):\n",
    "            html = self.driver.page_source\n",
    "            soup = BeautifulSoup(html, 'html.parser')\n",
    "            time.sleep(2)\n",
    "            border_list = soup.find_all(id=re.compile('list_row_'))\n",
    "\n",
    "            for j in border_list:\n",
    "                pool_list.append(Footsell.check(j, time_marker))\n",
    "\n",
    "            self.driver.find_elements(By.CSS_SELECTOR, 'ul>li>a')[i].send_keys(Keys.ENTER)\n",
    "            time.sleep(3)\n",
    "\n",
    "    else:\n",
    "        print('Error')\n",
    "\n",
    "    return pool_list"
   ]
  },
  {
   "cell_type": "code",
   "execution_count": 139,
   "metadata": {},
   "outputs": [],
   "source": [
    "pool=[]\n",
    "for i in (border_list):\n",
    "    pool.append(check(i))"
   ]
  },
  {
   "cell_type": "code",
   "execution_count": 151,
   "metadata": {},
   "outputs": [],
   "source": [
    "#title, condition, size, price, seller, uploadtime, uri, img"
   ]
  },
  {
   "cell_type": "code",
   "execution_count": null,
   "metadata": {},
   "outputs": [],
   "source": []
  },
  {
   "cell_type": "code",
   "execution_count": 133,
   "metadata": {},
   "outputs": [],
   "source": [
    "def check(border_list_att):\n",
    "    # 제목\n",
    "    try:\n",
    "        title = border_list_att.find('span', id=re.compile('^list_subject_')).text.strip()\n",
    "\n",
    "    except:\n",
    "        title = border_list_att.find('span', class_='smallfont color_aaa').text.strip()\n",
    "\n",
    "    # 컨디션\n",
    "    condition = border_list_att.find('span', class_='list_market_used han').text\n",
    "\n",
    "    # 사이즈\n",
    "    size = border_list_att.find('span', class_='list_market_size').text\n",
    "\n",
    "    # 가격\n",
    "    try:\n",
    "        price = border_list_att.find('div', class_=re.compile('^list_market_price')).text.strip()\n",
    "    except:\n",
    "        price = border_list_att.find('span', class_='color_aaa normal smallfont').text.strip()\n",
    "\n",
    "    # 판매자명\n",
    "    seller = border_list_att.find('div', class_=re.compile('^float_left list_market_name')).text.strip()\n",
    "\n",
    "    # 업로드 시각\n",
    "    uploadtime = border_list_att.find('span', class_='list_table_dates').text.strip()\n",
    "\n",
    "    # uri\n",
    "    uri = border_list_att.find('a').get('href')\n",
    "\n",
    "    # img\n",
    "    img = border_list_att.find('img').get('src')\n",
    "\n",
    "    if ':' in uploadtime:\n",
    "        uploadtime = time_marker\n",
    "\n",
    "    return [title, condition, size, price, seller, uploadtime, uri, img]"
   ]
  },
  {
   "cell_type": "code",
   "execution_count": null,
   "metadata": {},
   "outputs": [],
   "source": []
  }
 ],
 "metadata": {
  "kernelspec": {
   "display_name": "Python 3",
   "language": "python",
   "name": "python3"
  },
  "language_info": {
   "codemirror_mode": {
    "name": "ipython",
    "version": 3
   },
   "file_extension": ".py",
   "mimetype": "text/x-python",
   "name": "python",
   "nbconvert_exporter": "python",
   "pygments_lexer": "ipython3",
   "version": "3.8.4"
  }
 },
 "nbformat": 4,
 "nbformat_minor": 4
}
