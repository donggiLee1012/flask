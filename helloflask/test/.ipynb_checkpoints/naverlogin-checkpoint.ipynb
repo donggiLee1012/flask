{
 "cells": [
  {
   "cell_type": "code",
   "execution_count": null,
   "metadata": {},
   "outputs": [],
   "source": [
    "from selenium import webdriver\n",
    "from selenium.webdriver.common.action_chains import ActionChains\n",
    "from selenium.webdriver.common.keys import Keys\n",
    "import os\n",
    "# from bs4 import BeautifulSoup\n",
    "import pyperclip \n",
    "import time\n",
    "\n",
    "driverpath = os.path.join(os.path.dirname(os.getcwd()),'module','chromedriver.exe')\n",
    "\n",
    "def clipboard_input(self, user_xpath, user_input):\n",
    "    pyperclip.copy(user_input) # input을 클립보드로 복사\n",
    "    driver.find_element_by_xpath(user_xpath).click() # element focus 설정\n",
    "    ActionChains(driver).key_down(Keys.CONTROL).send_keys('v').key_up(Keys.CONTROL).perform() # ctrl + v 전달\n",
    "\n",
    "\n",
    "driver=webdriver.Chrome(driverpath)\n",
    "\n",
    "driver.get(\"https://nid.naver.com/nidlogin.login\")\n",
    "IDxPath='//*[@id=\"id\"]'\n",
    "PasswordxPath='//*[@id=\"pw\"]'\n",
    "\n",
    "\n",
    "ID=input(\"네이버 아이디: \")\n",
    "Password=input(\"네이버 비밀번호: \")\n",
    "\n",
    "\n",
    "clipboard_input(driver, IDxPath, ID)\n",
    "clipboard_input(driver,PasswordxPath,Password)\n",
    "driver.find_element_by_xpath('//*[@value=\"로그인\"]').click()"
   ]
  }
 ],
 "metadata": {
  "kernelspec": {
   "display_name": "Python 3",
   "language": "python",
   "name": "python3"
  },
  "language_info": {
   "codemirror_mode": {
    "name": "ipython",
    "version": 3
   },
   "file_extension": ".py",
   "mimetype": "text/x-python",
   "name": "python",
   "nbconvert_exporter": "python",
   "pygments_lexer": "ipython3",
   "version": "3.8.4"
  }
 },
 "nbformat": 4,
 "nbformat_minor": 4
}
